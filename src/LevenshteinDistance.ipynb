{
 "cells": [
  {
   "cell_type": "markdown",
   "metadata": {},
   "source": [
    "# Import Modules"
   ]
  },
  {
   "cell_type": "code",
   "execution_count": 4,
   "metadata": {},
   "outputs": [],
   "source": [
    "import numpy as np\n",
    "import pandas as pd"
   ]
  },
  {
   "cell_type": "markdown",
   "metadata": {},
   "source": [
    "# Levenshtein Distance Algorithm"
   ]
  },
  {
   "cell_type": "code",
   "execution_count": 2,
   "metadata": {},
   "outputs": [],
   "source": [
    "def levenshtein_distance(x: str, y: str) -> int:\n",
    "    # Matrix to store the corresponding edit distances of substring x with respect to y\n",
    "    m, n = len(x), len(y)\n",
    "    D = np.zeros((m + 1, n + 1), dtype=int)\n",
    "\n",
    "    # Initialize first column with each cell being a number corresponding to the position of each character of x\n",
    "    for i in range(m + 1):\n",
    "        D[i, 0] = i\n",
    "\n",
    "    # Initialize first row with each cell being a number corresponding to the position of each character of y\n",
    "    for j in range(n + 1):\n",
    "        D[0, j] = j\n",
    "\n",
    "    # Iterate through each substring in x and compare it with each substring of y\n",
    "    for i in range(1, m + 1):\n",
    "        for j in range(1, n + 1):\n",
    "            # If the characters are different (AKA) then the cost for substitution is 1. Else its 0\n",
    "            cost = 1\n",
    "            if x[i - 1] == y[j - 1]:\n",
    "                cost = 0\n",
    "\n",
    "            # For the minimum edit distance between substring of x up to i and substring of y up to j,\n",
    "            # find the minimum between:\n",
    "            # 1. Cost to delete: D[i - 1, j] + 1\n",
    "            # 2. Cost to insert: D[i, j - 1] + 1\n",
    "            # 3. Cost to substitute: D[i - 1, j - 1] + cost\n",
    "            D[i, j] = min(D[i - 1, j] + 1, D[i, j - 1] + 1, D[i - 1, j - 1] + cost)\n",
    "\n",
    "    # The minimum of edit distance for x and y is the element in the last column and last row of D\n",
    "    return D[m, n]"
   ]
  },
  {
   "cell_type": "markdown",
   "metadata": {},
   "source": [
    "# Levenshtein Distance with Array instead of Matrix"
   ]
  },
  {
   "cell_type": "code",
   "execution_count": 3,
   "metadata": {},
   "outputs": [],
   "source": [
    "def arr_levenshtein_distance(x: str, y: str) -> int:\n",
    "    # We choose the string with the shorter length to memoize the calculations\n",
    "    m, n = len(x), len(y)\n",
    "\n",
    "    if m > n:\n",
    "        x, y = y, x\n",
    "        m, n = n, m\n",
    "\n",
    "    # Initialize arrays for previous and current rows\n",
    "    prev = np.arange(m + 1, dtype=int)\n",
    "    current = np.zeros(m + 1, dtype=int)\n",
    "\n",
    "    # Iterate through each substring of the longer string up to index i and compare it to each substring of the shorter string\n",
    "    for i in range(1, n + 1):\n",
    "        current[0] = i\n",
    "\n",
    "        # For the minimum edit distance between substring of the longer string up to i and substring of the shorter substring up to j,\n",
    "        # find the minimum between:\n",
    "        # 1. Cost to delete: prev[j] + 1\n",
    "        # 2. Cost to insert: current[j - 1] + 1\n",
    "        # 3. Cost to substitute: prev[j - 1] + (0 if the characters are the same else 1)\n",
    "        for j in range(1, m + 1):\n",
    "            deletion_cost = prev[j] + 1\n",
    "            insertion_cost = current[j - 1] + 1\n",
    "            substitution_cost = prev[j - 1] + (0 if x[j - 1] == y[i - 1] else 1)\n",
    "\n",
    "            current[j] = min(insertion_cost, deletion_cost, substitution_cost)\n",
    "\n",
    "        # The current array will be the previous array of the next iteration. In truth, the current array doesn't need to be changed\n",
    "        # as it will be overwritten in the next iteration anyway\n",
    "        prev = current.copy()\n",
    "\n",
    "    # The minimum edit distance can be found in prev[m]. This is the equivalent of D[m, n]\n",
    "    return prev[m]"
   ]
  },
  {
   "cell_type": "markdown",
   "metadata": {},
   "source": [
    "# Benchmarking"
   ]
  },
  {
   "cell_type": "markdown",
   "metadata": {},
   "source": [
    "Loading the dataset"
   ]
  },
  {
   "cell_type": "code",
   "execution_count": 11,
   "metadata": {},
   "outputs": [
    {
     "data": {
      "text/html": [
       "<div>\n",
       "<style scoped>\n",
       "    .dataframe tbody tr th:only-of-type {\n",
       "        vertical-align: middle;\n",
       "    }\n",
       "\n",
       "    .dataframe tbody tr th {\n",
       "        vertical-align: top;\n",
       "    }\n",
       "\n",
       "    .dataframe thead th {\n",
       "        text-align: right;\n",
       "    }\n",
       "</style>\n",
       "<table border=\"1\" class=\"dataframe\">\n",
       "  <thead>\n",
       "    <tr style=\"text-align: right;\">\n",
       "      <th></th>\n",
       "      <th>IDX_SIM</th>\n",
       "      <th>INPUT1</th>\n",
       "      <th>INPUT1_ENG</th>\n",
       "      <th>INPUT2</th>\n",
       "      <th>INPUT2_ENG</th>\n",
       "    </tr>\n",
       "  </thead>\n",
       "  <tbody>\n",
       "    <tr>\n",
       "      <th>0</th>\n",
       "      <td>1</td>\n",
       "      <td>메르스</td>\n",
       "      <td>MERS</td>\n",
       "      <td>중동호흡기증후군</td>\n",
       "      <td>Middle East respiratory syndrome</td>\n",
       "    </tr>\n",
       "    <tr>\n",
       "      <th>1</th>\n",
       "      <td>2</td>\n",
       "      <td>포비돈</td>\n",
       "      <td>povidone</td>\n",
       "      <td>베타딘</td>\n",
       "      <td>betadine</td>\n",
       "    </tr>\n",
       "    <tr>\n",
       "      <th>2</th>\n",
       "      <td>3</td>\n",
       "      <td>아픽사반</td>\n",
       "      <td>apixaban</td>\n",
       "      <td>항혈전제</td>\n",
       "      <td>antithrombotic</td>\n",
       "    </tr>\n",
       "    <tr>\n",
       "      <th>3</th>\n",
       "      <td>4</td>\n",
       "      <td>진해제</td>\n",
       "      <td>antitussive</td>\n",
       "      <td>코데인</td>\n",
       "      <td>codeine</td>\n",
       "    </tr>\n",
       "    <tr>\n",
       "      <th>4</th>\n",
       "      <td>5</td>\n",
       "      <td>발진티푸스</td>\n",
       "      <td>typhus</td>\n",
       "      <td>장티푸스</td>\n",
       "      <td>typhoid</td>\n",
       "    </tr>\n",
       "  </tbody>\n",
       "</table>\n",
       "</div>"
      ],
      "text/plain": [
       "   IDX_SIM INPUT1   INPUT1_ENG    INPUT2                        INPUT2_ENG\n",
       "0        1    메르스         MERS  중동호흡기증후군  Middle East respiratory syndrome\n",
       "1        2    포비돈     povidone       베타딘                          betadine\n",
       "2        3   아픽사반     apixaban      항혈전제                    antithrombotic\n",
       "3        4    진해제  antitussive       코데인                           codeine\n",
       "4        5  발진티푸스       typhus      장티푸스                           typhoid"
      ]
     },
     "execution_count": 11,
     "metadata": {},
     "output_type": "execute_result"
    }
   ],
   "source": [
    "wordpairs = pd.read_csv(\"data/medinform_similarity_wordpairs.csv\")\n",
    "wordpairs.head()"
   ]
  },
  {
   "cell_type": "code",
   "execution_count": 12,
   "metadata": {},
   "outputs": [
    {
     "name": "stdout",
     "output_type": "stream",
     "text": [
      "<class 'pandas.core.frame.DataFrame'>\n",
      "RangeIndex: 604 entries, 0 to 603\n",
      "Data columns (total 5 columns):\n",
      " #   Column      Non-Null Count  Dtype \n",
      "---  ------      --------------  ----- \n",
      " 0   IDX_SIM     604 non-null    int64 \n",
      " 1   INPUT1      604 non-null    object\n",
      " 2   INPUT1_ENG  604 non-null    object\n",
      " 3   INPUT2      604 non-null    object\n",
      " 4   INPUT2_ENG  604 non-null    object\n",
      "dtypes: int64(1), object(4)\n",
      "memory usage: 23.7+ KB\n"
     ]
    }
   ],
   "source": [
    "wordpairs.info()"
   ]
  },
  {
   "cell_type": "markdown",
   "metadata": {},
   "source": [
    "## Benchmarking on the English word pairs"
   ]
  },
  {
   "cell_type": "markdown",
   "metadata": {},
   "source": [
    "## Benchmarking on the Korean word pairs"
   ]
  }
 ],
 "metadata": {
  "kernelspec": {
   "display_name": "code-Kmzgc9KG-py3.11",
   "language": "python",
   "name": "python3"
  },
  "language_info": {
   "codemirror_mode": {
    "name": "ipython",
    "version": 3
   },
   "file_extension": ".py",
   "mimetype": "text/x-python",
   "name": "python",
   "nbconvert_exporter": "python",
   "pygments_lexer": "ipython3",
   "version": "3.11.3"
  }
 },
 "nbformat": 4,
 "nbformat_minor": 2
}
