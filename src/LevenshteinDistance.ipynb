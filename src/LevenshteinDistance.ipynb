{
 "cells": [
  {
   "cell_type": "markdown",
   "metadata": {},
   "source": [
    "# Import Modules"
   ]
  },
  {
   "cell_type": "code",
   "execution_count": 3,
   "metadata": {},
   "outputs": [],
   "source": [
    "import numpy as np\n",
    "import time"
   ]
  },
  {
   "cell_type": "markdown",
   "metadata": {},
   "source": [
    "# Levenshtein Distance Algorithm"
   ]
  },
  {
   "cell_type": "code",
   "execution_count": 16,
   "metadata": {},
   "outputs": [],
   "source": [
    "def levenshtein_distance(x: str, y: str) -> int:\n",
    "    # Matrix to store the corresponding edit distances of substring x with respect to y\n",
    "    m, n = len(x), len(y)\n",
    "    D = np.zeros((m + 1, n + 1), dtype=int)\n",
    "\n",
    "    # Initialize first column with each cell being a number corresponding to the position of each character of x\n",
    "    for i in range(m + 1):\n",
    "        D[i, 0] = i\n",
    "\n",
    "    # Initialize first row with each cell being a number corresponding to the position of each character of y\n",
    "    for j in range(n + 1):\n",
    "        D[0, j] = j\n",
    "\n",
    "    # Iterate through each substring in x and compare it with each substring of y\n",
    "    for i in range(1, m + 1):\n",
    "        for j in range(1, n + 1):\n",
    "            # If the characters are different (AKA) then the cost for substitution is 1. Else its 0\n",
    "            cost = 1\n",
    "            if x[i - 1] == y[j - 1]:\n",
    "                cost = 0\n",
    "\n",
    "            # For the minimum edit distance between substring of x up to i and substring of y up to j,\n",
    "            # find the minimum between:\n",
    "            # 1. Cost to delete: D[i - 1, j] + 1\n",
    "            # 2. Cost to insert: D[i, j - 1] + 1\n",
    "            # 3. Cost to substitute: D[i - 1, j - 1] + cost\n",
    "            D[i, j] = min(D[i - 1, j] + 1, D[i, j - 1] + 1, D[i - 1, j - 1] + cost)\n",
    "\n",
    "    # The minimum of edit distance for x and y is the element in the last column and last row of D\n",
    "    return D[m, n]"
   ]
  },
  {
   "cell_type": "markdown",
   "metadata": {},
   "source": [
    "# Levenshtein Distance with Array instead of Matrix"
   ]
  },
  {
   "cell_type": "code",
   "execution_count": 18,
   "metadata": {},
   "outputs": [],
   "source": [
    "def arr_levenshtein_distance(x: str, y: str) -> int:\n",
    "    # We choose the string with the shorter length to memoize the calculations\n",
    "    m, n = len(x), len(y)\n",
    "\n",
    "    if m > n:\n",
    "        x, y = y, x\n",
    "        m, n = n, m\n",
    "\n",
    "    # Initialize arrays for previous and current rows\n",
    "    prev = np.arange(m + 1, dtype=int)\n",
    "    current = np.zeros(m + 1, dtype=int)\n",
    "\n",
    "    # Iterate through each substring of the longer string up to index i and compare it to each substring of the shorter string\n",
    "    for i in range(1, n + 1):\n",
    "        current[0] = i\n",
    "\n",
    "        # For the minimum edit distance between substring of the longer string up to i and substring of the shorter substring up to j,\n",
    "        # find the minimum between:\n",
    "        # 1. Cost to delete: prev[j] + 1\n",
    "        # 2. Cost to insert: current[j - 1] + 1\n",
    "        # 3. Cost to substitute: prev[j - 1] + (0 if the characters are the same else 1)\n",
    "        for j in range(1, m + 1):\n",
    "            deletion_cost = prev[j] + 1\n",
    "            insertion_cost = current[j - 1] + 1\n",
    "            substitution_cost = prev[j - 1] + (0 if x[j - 1] == y[i - 1] else 1)\n",
    "\n",
    "            current[j] = min(insertion_cost, deletion_cost, substitution_cost)\n",
    "\n",
    "        # The current array will be the previous array of the next iteration. In truth, the current array doesn't need to be changed\n",
    "        # as it will be overwritten in the next iteration anyway\n",
    "        prev = current.copy()\n",
    "\n",
    "    # The minimum edit distance can be found in prev[m]. This is the equivalent of D[m, n]\n",
    "    return prev[m]"
   ]
  },
  {
   "cell_type": "markdown",
   "metadata": {},
   "source": [
    "# Benchmarking"
   ]
  }
 ],
 "metadata": {
  "kernelspec": {
   "display_name": "code-Kmzgc9KG-py3.11",
   "language": "python",
   "name": "python3"
  },
  "language_info": {
   "codemirror_mode": {
    "name": "ipython",
    "version": 3
   },
   "file_extension": ".py",
   "mimetype": "text/x-python",
   "name": "python",
   "nbconvert_exporter": "python",
   "pygments_lexer": "ipython3",
   "version": "3.11.3"
  }
 },
 "nbformat": 4,
 "nbformat_minor": 2
}
